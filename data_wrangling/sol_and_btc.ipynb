{
 "cells": [
  {
   "cell_type": "code",
   "execution_count": 4,
   "metadata": {},
   "outputs": [],
   "source": [
    "import pandas as pd\n",
    "import os"
   ]
  },
  {
   "cell_type": "code",
   "execution_count": 15,
   "metadata": {},
   "outputs": [
    {
     "name": "stdout",
     "output_type": "stream",
     "text": [
      "d:\\Data Scientist\\MBA\\TCC\\repo\\solana_predict\\r_project\\misc\n"
     ]
    }
   ],
   "source": [
    "# Ir para o diretorio misc\n",
    "path = os.getcwd()\n",
    "\n",
    "# Subir um nível\n",
    "parent_path = os.path.dirname(path)\n",
    "\n",
    "# Mudar para a pasta 'r_project/misc'\n",
    "target_path = os.path.join(parent_path,  'misc')\n",
    "\n",
    "# Mudar o diretório de trabalho\n",
    "os.chdir(target_path)\n",
    "\n",
    "# Verificar se a mudança foi bem-sucedida\n",
    "print(os.getcwd())"
   ]
  },
  {
   "cell_type": "code",
   "execution_count": 29,
   "metadata": {},
   "outputs": [],
   "source": [
    "# Carregar os datasets\n",
    "sol_data = pd.read_csv('coin_sol.csv')\n",
    "bitcoin_data = pd.read_csv('coin_Bitcoin.csv')"
   ]
  },
  {
   "cell_type": "code",
   "execution_count": 30,
   "metadata": {},
   "outputs": [],
   "source": [
    "# Renomear as colunas do bitcoin_data\n",
    "bitcoin_data.rename(columns={'High': 'last_day_btc_high',\n",
    "                             'Low': 'last_day_btc_low',\n",
    "                             'Open': 'last_day_btc_open',\n",
    "                             'Close': 'last_day_btc_close',\n",
    "                             'Volume': 'last_day_btc_volume',\n",
    "                             'Marketcap': 'last_day_btc_marketcap'}, inplace=True)"
   ]
  },
  {
   "cell_type": "code",
   "execution_count": 31,
   "metadata": {},
   "outputs": [],
   "source": [
    "# Deslocar as colunas do bitcoin_data em uma unidade\n",
    "bitcoin_data[['last_day_btc_high', 'last_day_btc_low', 'last_day_btc_open', 'last_day_btc_close', 'last_day_btc_volume', 'last_day_btc_marketcap']] = bitcoin_data[['last_day_btc_high', 'last_day_btc_low', 'last_day_btc_open', 'last_day_btc_close', 'last_day_btc_volume', 'last_day_btc_marketcap']].shift(-1)"
   ]
  },
  {
   "cell_type": "code",
   "execution_count": 33,
   "metadata": {},
   "outputs": [],
   "source": [
    "\n",
    "# Realizar o left join\n",
    "merged_data = pd.merge(sol_data[['Date', 'Close']], bitcoin_data[['Date', 'last_day_btc_high', 'last_day_btc_low', 'last_day_btc_open', 'last_day_btc_close', 'last_day_btc_volume', 'last_day_btc_marketcap']], on='Date', how='left')\n",
    "\n",
    "# Renomear a coluna Close de sol_data\n",
    "merged_data.rename(columns={'Close': 'sol_close'}, inplace=True)\n",
    "\n",
    "merged_data = merged_data.drop('Date', axis=1)\n"
   ]
  },
  {
   "cell_type": "code",
   "execution_count": 34,
   "metadata": {},
   "outputs": [],
   "source": [
    "# exportar dataframe\n",
    "merged_data.to_csv('sol_with_btc.csv', index=False)"
   ]
  },
  {
   "cell_type": "code",
   "execution_count": null,
   "metadata": {},
   "outputs": [],
   "source": []
  }
 ],
 "metadata": {
  "kernelspec": {
   "display_name": "Python 3",
   "language": "python",
   "name": "python3"
  },
  "language_info": {
   "codemirror_mode": {
    "name": "ipython",
    "version": 3
   },
   "file_extension": ".py",
   "mimetype": "text/x-python",
   "name": "python",
   "nbconvert_exporter": "python",
   "pygments_lexer": "ipython3",
   "version": "3.11.3"
  }
 },
 "nbformat": 4,
 "nbformat_minor": 2
}
