{
 "cells": [
  {
   "cell_type": "code",
   "execution_count": 4,
   "metadata": {},
   "outputs": [],
   "source": [
    "import pandas as pd\n",
    "import os"
   ]
  },
  {
   "cell_type": "code",
   "execution_count": 15,
   "metadata": {},
   "outputs": [
    {
     "name": "stdout",
     "output_type": "stream",
     "text": [
      "d:\\Data Scientist\\MBA\\TCC\\repo\\solana_predict\\r_project\\misc\n"
     ]
    }
   ],
   "source": [
    "# Ir para o diretorio misc\n",
    "path = os.getcwd()\n",
    "\n",
    "# Subir um nível\n",
    "parent_path = os.path.dirname(path)\n",
    "\n",
    "# Mudar para a pasta 'r_project/misc'\n",
    "target_path = os.path.join(parent_path,  'misc')\n",
    "\n",
    "# Mudar o diretório de trabalho\n",
    "os.chdir(target_path)\n",
    "\n",
    "# Verificar se a mudança foi bem-sucedida\n",
    "print(os.getcwd())"
   ]
  },
  {
   "cell_type": "code",
   "execution_count": 16,
   "metadata": {},
   "outputs": [],
   "source": [
    "# Carregar os datasets\n",
    "sol_data = pd.read_csv('coin_sol.csv')\n",
    "bitcoin_data = pd.read_csv('coin_Bitcoin.csv')"
   ]
  },
  {
   "cell_type": "code",
   "execution_count": 17,
   "metadata": {},
   "outputs": [],
   "source": [
    "# Renomear as colunas do DataFrame bitcoin_data\n",
    "bitcoin_data.rename(columns={'High': 'btc_high',\n",
    "                             'Low': 'btc_low',\n",
    "                             'Open': 'btc_open',\n",
    "                             'Close': 'btc_close',\n",
    "                             'Volume': 'btc_volume',\n",
    "                             'Marketcap': 'btc_marketcap'}, inplace=True)"
   ]
  },
  {
   "cell_type": "code",
   "execution_count": 18,
   "metadata": {},
   "outputs": [],
   "source": [
    "\n",
    "# Realizar o left join\n",
    "merged_data = pd.merge(sol_data[['Date', 'Close']], bitcoin_data[['Date', 'btc_high', 'btc_low', 'btc_open', 'btc_close', 'btc_volume', 'btc_marketcap']], on='Date', how='left')\n",
    "\n",
    "# Renomear a coluna Close de sol_data\n",
    "merged_data.rename(columns={'Close': 'sol_close'}, inplace=True)\n"
   ]
  },
  {
   "cell_type": "code",
   "execution_count": 20,
   "metadata": {},
   "outputs": [],
   "source": [
    "# exportar dataframe\n",
    "merged_data.to_csv('sol_with_btc.csv', index=False)"
   ]
  }
 ],
 "metadata": {
  "kernelspec": {
   "display_name": "Python 3",
   "language": "python",
   "name": "python3"
  },
  "language_info": {
   "codemirror_mode": {
    "name": "ipython",
    "version": 3
   },
   "file_extension": ".py",
   "mimetype": "text/x-python",
   "name": "python",
   "nbconvert_exporter": "python",
   "pygments_lexer": "ipython3",
   "version": "3.11.3"
  }
 },
 "nbformat": 4,
 "nbformat_minor": 2
}
